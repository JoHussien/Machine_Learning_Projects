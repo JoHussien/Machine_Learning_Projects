{
  "nbformat": 4,
  "nbformat_minor": 0,
  "metadata": {
    "accelerator": "GPU",
    "colab": {
      "name": "Humans_v_Horses_classifier_Augmented",
      "provenance": [],
      "collapsed_sections": [],
      "toc_visible": true
    },
    "kernelspec": {
      "display_name": "Python 3",
      "name": "python3"
    }
  },
  "cells": [
    {
      "cell_type": "markdown",
      "metadata": {
        "colab_type": "text",
        "id": "rX8mhOLljYeM"
      },
      "source": [
        "##### Copyright 2019 The TensorFlow Authors."
      ]
    },
    {
      "cell_type": "code",
      "metadata": {
        "cellView": "form",
        "colab_type": "code",
        "id": "BZSlp3DAjdYf",
        "colab": {}
      },
      "source": [
        "#@title Licensed under the Apache License, Version 2.0 (the \"License\");\n",
        "# you may not use this file except in compliance with the License.\n",
        "# You may obtain a copy of the License at\n",
        "#\n",
        "# https://www.apache.org/licenses/LICENSE-2.0\n",
        "#\n",
        "# Unless required by applicable law or agreed to in writing, software\n",
        "# distributed under the License is distributed on an \"AS IS\" BASIS,\n",
        "# WITHOUT WARRANTIES OR CONDITIONS OF ANY KIND, either express or implied.\n",
        "# See the License for the specific language governing permissions and\n",
        "# limitations under the License."
      ],
      "execution_count": null,
      "outputs": []
    },
    {
      "cell_type": "code",
      "metadata": {
        "colab_type": "code",
        "id": "RXZT2UsyIVe_",
        "colab": {}
      },
      "source": [
        "!wget --no-check-certificate \\\n",
        "    https://storage.googleapis.com/laurencemoroney-blog.appspot.com/horse-or-human.zip \\\n",
        "    -O /tmp/horse-or-human.zip\n",
        "\n",
        "!wget --no-check-certificate \\\n",
        "    https://storage.googleapis.com/laurencemoroney-blog.appspot.com/validation-horse-or-human.zip \\\n",
        "    -O /tmp/validation-horse-or-human.zip\n",
        "  \n",
        "import os\n",
        "import zipfile\n",
        "\n",
        "local_zip = '/tmp/horse-or-human.zip'\n",
        "zip_ref = zipfile.ZipFile(local_zip, 'r')\n",
        "zip_ref.extractall('/tmp/horse-or-human')\n",
        "local_zip = '/tmp/validation-horse-or-human.zip'\n",
        "zip_ref = zipfile.ZipFile(local_zip, 'r')\n",
        "zip_ref.extractall('/tmp/validation-horse-or-human')\n",
        "zip_ref.close()\n",
        "# Directory with our training horse pictures\n",
        "train_horse_dir = os.path.join('/tmp/horse-or-human/horses')\n",
        "\n",
        "# Directory with our training human pictures\n",
        "train_human_dir = os.path.join('/tmp/horse-or-human/humans')\n",
        "\n",
        "# Directory with our training horse pictures\n",
        "validation_horse_dir = os.path.join('/tmp/validation-horse-or-human/horses')\n",
        "\n",
        "# Directory with our training human pictures\n",
        "validation_human_dir = os.path.join('/tmp/validation-horse-or-human/humans')"
      ],
      "execution_count": null,
      "outputs": []
    },
    {
      "cell_type": "markdown",
      "metadata": {
        "colab_type": "text",
        "id": "5oqBkNBJmtUv"
      },
      "source": [
        "## Building a Small Model from Scratch\n",
        "\n",
        "But before we continue, let's start defining the model:\n",
        "\n",
        "Step 1 will be to import tensorflow."
      ]
    },
    {
      "cell_type": "code",
      "metadata": {
        "colab_type": "code",
        "id": "qvfZg3LQbD-5",
        "colab": {}
      },
      "source": [
        "import tensorflow as tf"
      ],
      "execution_count": null,
      "outputs": []
    },
    {
      "cell_type": "markdown",
      "metadata": {
        "colab_type": "text",
        "id": "BnhYCP4tdqjC"
      },
      "source": [
        "We then add convolutional layers as in the previous example, and flatten the final result to feed into the densely connected layers."
      ]
    },
    {
      "cell_type": "markdown",
      "metadata": {
        "colab_type": "text",
        "id": "gokG5HKpdtzm"
      },
      "source": [
        "Finally we add the densely connected layers. \n",
        "\n",
        "Note that because we are facing a two-class classification problem, i.e. a *binary classification problem*, we will end our network with a [*sigmoid* activation](https://wikipedia.org/wiki/Sigmoid_function), so that the output of our network will be a single scalar between 0 and 1, encoding the probability that the current image is class 1 (as opposed to class 0)."
      ]
    },
    {
      "cell_type": "code",
      "metadata": {
        "colab_type": "code",
        "id": "PixZ2s5QbYQ3",
        "colab": {}
      },
      "source": [
        "model = tf.keras.models.Sequential([\n",
        "    # Note the input shape is the desired size of the image 300x300 with 3 bytes color\n",
        "    # This is the first convolution\n",
        "    tf.keras.layers.Conv2D(16, (3,3), activation='relu', input_shape=(300, 300, 3)),\n",
        "    tf.keras.layers.MaxPooling2D(2, 2),\n",
        "    # The second convolution\n",
        "    tf.keras.layers.Conv2D(32, (3,3), activation='relu'),\n",
        "    tf.keras.layers.MaxPooling2D(2,2),\n",
        "    # The third convolution\n",
        "    tf.keras.layers.Conv2D(64, (3,3), activation='relu'),\n",
        "    tf.keras.layers.MaxPooling2D(2,2),\n",
        "    # The fourth convolution\n",
        "    tf.keras.layers.Conv2D(64, (3,3), activation='relu'),\n",
        "    tf.keras.layers.MaxPooling2D(2,2),\n",
        "    # The fifth convolution\n",
        "    tf.keras.layers.Conv2D(64, (3,3), activation='relu'),\n",
        "    tf.keras.layers.MaxPooling2D(2,2),\n",
        "    # Flatten the results to feed into a DNN\n",
        "    tf.keras.layers.Flatten(),\n",
        "    # 512 neuron hidden layer\n",
        "    tf.keras.layers.Dense(512, activation='relu'),\n",
        "    # Only 1 output neuron. It will contain a value from 0-1 where 0 for 1 class ('horses') and 1 for the other ('humans')\n",
        "    tf.keras.layers.Dense(1, activation='sigmoid')\n",
        "])"
      ],
      "execution_count": null,
      "outputs": []
    },
    {
      "cell_type": "code",
      "metadata": {
        "colab_type": "code",
        "id": "8DHWhFP_uhq3",
        "colab": {}
      },
      "source": [
        "from tensorflow.keras.optimizers import RMSprop\n",
        "\n",
        "model.compile(loss='binary_crossentropy',\n",
        "              optimizer=RMSprop(lr=1e-4),\n",
        "              metrics=['accuracy'])"
      ],
      "execution_count": null,
      "outputs": []
    },
    {
      "cell_type": "code",
      "metadata": {
        "colab_type": "code",
        "id": "ClebU9NJg99G",
        "colab": {}
      },
      "source": [
        "from tensorflow.keras.preprocessing.image import ImageDataGenerator\n",
        "\n",
        "# All images will be rescaled by 1./255\n",
        "train_datagen = ImageDataGenerator(\n",
        "      rescale=1./255,\n",
        "      rotation_range=40,\n",
        "      width_shift_range=0.2,\n",
        "      height_shift_range=0.2,\n",
        "      shear_range=0.2,\n",
        "      zoom_range=0.2,\n",
        "      horizontal_flip=True,\n",
        "      fill_mode='nearest')\n",
        "\n",
        "validation_datagen = ImageDataGenerator(rescale=1/255)\n",
        "\n",
        "# Flow training images in batches of 128 using train_datagen generator\n",
        "train_generator = train_datagen.flow_from_directory(\n",
        "        '/tmp/horse-or-human/',  # This is the source directory for training images\n",
        "        target_size=(300, 300),  # All images will be resized to 150x150\n",
        "        batch_size=128,\n",
        "        # Since we use binary_crossentropy loss, we need binary labels\n",
        "        class_mode='binary')\n",
        "\n",
        "# Flow training images in batches of 128 using train_datagen generator\n",
        "validation_generator = validation_datagen.flow_from_directory(\n",
        "        '/tmp/validation-horse-or-human/',  # This is the source directory for training images\n",
        "        target_size=(300, 300),  # All images will be resized to 150x150\n",
        "        batch_size=32,\n",
        "        # Since we use binary_crossentropy loss, we need binary labels\n",
        "        class_mode='binary')"
      ],
      "execution_count": null,
      "outputs": []
    },
    {
      "cell_type": "code",
      "metadata": {
        "colab_type": "code",
        "id": "Fb1_lgobv81m",
        "colab": {
          "base_uri": "https://localhost:8080/",
          "height": 1000
        },
        "outputId": "30ce33a2-d25b-4bf3-b569-8d20136dc95c"
      },
      "source": [
        "history = model.fit(\n",
        "      train_generator,\n",
        "      steps_per_epoch=8,  \n",
        "      epochs=100,\n",
        "      verbose=1,\n",
        "      validation_data = validation_generator,\n",
        "      validation_steps=8)"
      ],
      "execution_count": null,
      "outputs": [
        {
          "output_type": "stream",
          "text": [
            "Epoch 1/100\n",
            "8/8 [==============================] - 24s 3s/step - loss: 0.6189 - accuracy: 0.7019 - val_loss: 0.6026 - val_accuracy: 0.6055\n",
            "Epoch 2/100\n",
            "8/8 [==============================] - 22s 3s/step - loss: 0.5867 - accuracy: 0.6919 - val_loss: 0.5178 - val_accuracy: 0.6914\n",
            "Epoch 3/100\n",
            "8/8 [==============================] - 22s 3s/step - loss: 0.5828 - accuracy: 0.7052 - val_loss: 0.4587 - val_accuracy: 0.7500\n",
            "Epoch 4/100\n",
            "8/8 [==============================] - 25s 3s/step - loss: 0.5262 - accuracy: 0.7783 - val_loss: 0.6265 - val_accuracy: 0.6523\n",
            "Epoch 5/100\n",
            "8/8 [==============================] - 21s 3s/step - loss: 0.5436 - accuracy: 0.7419 - val_loss: 0.4967 - val_accuracy: 0.7266\n",
            "Epoch 6/100\n",
            "8/8 [==============================] - 21s 3s/step - loss: 0.4849 - accuracy: 0.7820 - val_loss: 0.6233 - val_accuracy: 0.6641\n",
            "Epoch 7/100\n",
            "8/8 [==============================] - 25s 3s/step - loss: 0.4826 - accuracy: 0.7531 - val_loss: 0.6138 - val_accuracy: 0.7031\n",
            "Epoch 8/100\n",
            "8/8 [==============================] - 22s 3s/step - loss: 0.4560 - accuracy: 0.7887 - val_loss: 0.6865 - val_accuracy: 0.6914\n",
            "Epoch 9/100\n",
            "8/8 [==============================] - 23s 3s/step - loss: 0.5122 - accuracy: 0.7686 - val_loss: 0.9140 - val_accuracy: 0.6445\n",
            "Epoch 10/100\n",
            "8/8 [==============================] - 21s 3s/step - loss: 0.4286 - accuracy: 0.8109 - val_loss: 0.8579 - val_accuracy: 0.6680\n",
            "Epoch 11/100\n",
            "8/8 [==============================] - 21s 3s/step - loss: 0.4445 - accuracy: 0.7976 - val_loss: 0.9822 - val_accuracy: 0.6523\n",
            "Epoch 12/100\n",
            "8/8 [==============================] - 21s 3s/step - loss: 0.4508 - accuracy: 0.7775 - val_loss: 0.9716 - val_accuracy: 0.6328\n",
            "Epoch 13/100\n",
            "8/8 [==============================] - 23s 3s/step - loss: 0.4203 - accuracy: 0.8176 - val_loss: 1.1230 - val_accuracy: 0.5859\n",
            "Epoch 14/100\n",
            "8/8 [==============================] - 21s 3s/step - loss: 0.4236 - accuracy: 0.8120 - val_loss: 0.8949 - val_accuracy: 0.6523\n",
            "Epoch 15/100\n",
            "8/8 [==============================] - 21s 3s/step - loss: 0.4150 - accuracy: 0.7987 - val_loss: 0.9299 - val_accuracy: 0.6562\n",
            "Epoch 16/100\n",
            "8/8 [==============================] - 22s 3s/step - loss: 0.3788 - accuracy: 0.8320 - val_loss: 1.8383 - val_accuracy: 0.5273\n",
            "Epoch 17/100\n",
            "8/8 [==============================] - 22s 3s/step - loss: 0.4684 - accuracy: 0.7853 - val_loss: 1.2456 - val_accuracy: 0.5859\n",
            "Epoch 18/100\n",
            "8/8 [==============================] - 22s 3s/step - loss: 0.3676 - accuracy: 0.8509 - val_loss: 1.4362 - val_accuracy: 0.5781\n",
            "Epoch 19/100\n",
            "8/8 [==============================] - 21s 3s/step - loss: 0.4231 - accuracy: 0.8031 - val_loss: 1.1193 - val_accuracy: 0.6484\n",
            "Epoch 20/100\n",
            "8/8 [==============================] - 23s 3s/step - loss: 0.3643 - accuracy: 0.8447 - val_loss: 1.4646 - val_accuracy: 0.5820\n",
            "Epoch 21/100\n",
            "8/8 [==============================] - 22s 3s/step - loss: 0.3688 - accuracy: 0.8465 - val_loss: 1.0641 - val_accuracy: 0.6680\n",
            "Epoch 22/100\n",
            "8/8 [==============================] - 23s 3s/step - loss: 0.3821 - accuracy: 0.8187 - val_loss: 1.4594 - val_accuracy: 0.5977\n",
            "Epoch 23/100\n",
            "8/8 [==============================] - 22s 3s/step - loss: 0.3551 - accuracy: 0.8443 - val_loss: 1.8226 - val_accuracy: 0.5547\n",
            "Epoch 24/100\n",
            "8/8 [==============================] - 21s 3s/step - loss: 0.3390 - accuracy: 0.8554 - val_loss: 1.2041 - val_accuracy: 0.6719\n",
            "Epoch 25/100\n",
            "8/8 [==============================] - 22s 3s/step - loss: 0.3793 - accuracy: 0.8187 - val_loss: 0.9213 - val_accuracy: 0.7031\n",
            "Epoch 26/100\n",
            "8/8 [==============================] - 22s 3s/step - loss: 0.3629 - accuracy: 0.8276 - val_loss: 1.9691 - val_accuracy: 0.5547\n",
            "Epoch 27/100\n",
            "8/8 [==============================] - 23s 3s/step - loss: 0.3333 - accuracy: 0.8532 - val_loss: 1.9230 - val_accuracy: 0.5781\n",
            "Epoch 28/100\n",
            "8/8 [==============================] - 21s 3s/step - loss: 0.4049 - accuracy: 0.8042 - val_loss: 1.4371 - val_accuracy: 0.6367\n",
            "Epoch 29/100\n",
            "8/8 [==============================] - 23s 3s/step - loss: 0.3023 - accuracy: 0.8770 - val_loss: 1.5445 - val_accuracy: 0.6445\n",
            "Epoch 30/100\n",
            "8/8 [==============================] - 25s 3s/step - loss: 0.2712 - accuracy: 0.8926 - val_loss: 2.1234 - val_accuracy: 0.5703\n",
            "Epoch 31/100\n",
            "8/8 [==============================] - 23s 3s/step - loss: 0.3707 - accuracy: 0.8331 - val_loss: 1.7184 - val_accuracy: 0.5859\n",
            "Epoch 32/100\n",
            "8/8 [==============================] - 26s 3s/step - loss: 0.3468 - accuracy: 0.8509 - val_loss: 1.7244 - val_accuracy: 0.6172\n",
            "Epoch 33/100\n",
            "8/8 [==============================] - 21s 3s/step - loss: 0.2591 - accuracy: 0.8977 - val_loss: 1.9001 - val_accuracy: 0.5977\n",
            "Epoch 34/100\n",
            "8/8 [==============================] - 22s 3s/step - loss: 0.2686 - accuracy: 0.8910 - val_loss: 1.9228 - val_accuracy: 0.5781\n",
            "Epoch 35/100\n",
            "8/8 [==============================] - 24s 3s/step - loss: 0.2730 - accuracy: 0.8799 - val_loss: 2.0786 - val_accuracy: 0.5898\n",
            "Epoch 36/100\n",
            "8/8 [==============================] - 22s 3s/step - loss: 0.2490 - accuracy: 0.8999 - val_loss: 1.9488 - val_accuracy: 0.6133\n",
            "Epoch 37/100\n",
            "8/8 [==============================] - 22s 3s/step - loss: 0.2768 - accuracy: 0.8676 - val_loss: 2.4675 - val_accuracy: 0.5703\n",
            "Epoch 38/100\n",
            "8/8 [==============================] - 22s 3s/step - loss: 0.2626 - accuracy: 0.8936 - val_loss: 2.8697 - val_accuracy: 0.5430\n",
            "Epoch 39/100\n",
            "8/8 [==============================] - 24s 3s/step - loss: 0.2866 - accuracy: 0.8665 - val_loss: 1.6635 - val_accuracy: 0.6602\n",
            "Epoch 40/100\n",
            "8/8 [==============================] - 21s 3s/step - loss: 0.2401 - accuracy: 0.9021 - val_loss: 1.7323 - val_accuracy: 0.6641\n",
            "Epoch 41/100\n",
            "8/8 [==============================] - 26s 3s/step - loss: 0.3074 - accuracy: 0.8498 - val_loss: 2.1423 - val_accuracy: 0.6055\n",
            "Epoch 42/100\n",
            "8/8 [==============================] - 21s 3s/step - loss: 0.2369 - accuracy: 0.9043 - val_loss: 2.3462 - val_accuracy: 0.5898\n",
            "Epoch 43/100\n",
            "8/8 [==============================] - 22s 3s/step - loss: 0.2411 - accuracy: 0.9055 - val_loss: 1.9688 - val_accuracy: 0.6289\n",
            "Epoch 44/100\n",
            "8/8 [==============================] - 21s 3s/step - loss: 0.3266 - accuracy: 0.8621 - val_loss: 2.0215 - val_accuracy: 0.6250\n",
            "Epoch 45/100\n",
            "8/8 [==============================] - 22s 3s/step - loss: 0.2591 - accuracy: 0.8854 - val_loss: 1.0687 - val_accuracy: 0.7109\n",
            "Epoch 46/100\n",
            "8/8 [==============================] - 25s 3s/step - loss: 0.2204 - accuracy: 0.9189 - val_loss: 2.1397 - val_accuracy: 0.6133\n",
            "Epoch 47/100\n",
            "8/8 [==============================] - 21s 3s/step - loss: 0.2331 - accuracy: 0.9055 - val_loss: 1.5847 - val_accuracy: 0.6836\n",
            "Epoch 48/100\n",
            "8/8 [==============================] - 20s 3s/step - loss: 0.2222 - accuracy: 0.9177 - val_loss: 1.0704 - val_accuracy: 0.7500\n",
            "Epoch 49/100\n",
            "8/8 [==============================] - 21s 3s/step - loss: 0.2474 - accuracy: 0.9055 - val_loss: 2.0253 - val_accuracy: 0.6562\n",
            "Epoch 50/100\n",
            "8/8 [==============================] - 21s 3s/step - loss: 0.2191 - accuracy: 0.9188 - val_loss: 3.6870 - val_accuracy: 0.5312\n",
            "Epoch 51/100\n",
            "8/8 [==============================] - 22s 3s/step - loss: 0.2467 - accuracy: 0.8988 - val_loss: 3.3469 - val_accuracy: 0.5391\n",
            "Epoch 52/100\n",
            "8/8 [==============================] - 25s 3s/step - loss: 0.1783 - accuracy: 0.9244 - val_loss: 1.9217 - val_accuracy: 0.6719\n",
            "Epoch 53/100\n",
            "8/8 [==============================] - 23s 3s/step - loss: 0.2128 - accuracy: 0.9166 - val_loss: 2.5508 - val_accuracy: 0.6133\n",
            "Epoch 54/100\n",
            "8/8 [==============================] - 21s 3s/step - loss: 0.2173 - accuracy: 0.9077 - val_loss: 2.2784 - val_accuracy: 0.6328\n",
            "Epoch 55/100\n",
            "8/8 [==============================] - 21s 3s/step - loss: 0.1924 - accuracy: 0.9232 - val_loss: 4.0015 - val_accuracy: 0.5352\n",
            "Epoch 56/100\n",
            "8/8 [==============================] - 23s 3s/step - loss: 0.2074 - accuracy: 0.9021 - val_loss: 1.4622 - val_accuracy: 0.6758\n",
            "Epoch 57/100\n",
            "8/8 [==============================] - 21s 3s/step - loss: 0.1805 - accuracy: 0.9388 - val_loss: 2.8803 - val_accuracy: 0.6055\n",
            "Epoch 58/100\n",
            "8/8 [==============================] - 21s 3s/step - loss: 0.2051 - accuracy: 0.9121 - val_loss: 1.7299 - val_accuracy: 0.6719\n",
            "Epoch 59/100\n",
            "8/8 [==============================] - 21s 3s/step - loss: 0.2013 - accuracy: 0.9210 - val_loss: 2.3536 - val_accuracy: 0.6406\n",
            "Epoch 60/100\n",
            "8/8 [==============================] - 24s 3s/step - loss: 0.1684 - accuracy: 0.9326 - val_loss: 3.1389 - val_accuracy: 0.6055\n",
            "Epoch 61/100\n",
            "8/8 [==============================] - 22s 3s/step - loss: 0.2009 - accuracy: 0.9177 - val_loss: 3.5905 - val_accuracy: 0.5508\n",
            "Epoch 62/100\n",
            "8/8 [==============================] - 23s 3s/step - loss: 0.1615 - accuracy: 0.9299 - val_loss: 1.9574 - val_accuracy: 0.6719\n",
            "Epoch 63/100\n",
            "8/8 [==============================] - 21s 3s/step - loss: 0.1988 - accuracy: 0.9110 - val_loss: 3.3944 - val_accuracy: 0.6133\n",
            "Epoch 64/100\n",
            "8/8 [==============================] - 24s 3s/step - loss: 0.1962 - accuracy: 0.9266 - val_loss: 2.9366 - val_accuracy: 0.6172\n",
            "Epoch 65/100\n",
            "8/8 [==============================] - 21s 3s/step - loss: 0.3049 - accuracy: 0.8743 - val_loss: 1.8488 - val_accuracy: 0.6641\n",
            "Epoch 66/100\n",
            "8/8 [==============================] - 23s 3s/step - loss: 0.1532 - accuracy: 0.9399 - val_loss: 1.9702 - val_accuracy: 0.6797\n",
            "Epoch 67/100\n",
            "8/8 [==============================] - 22s 3s/step - loss: 0.2574 - accuracy: 0.8943 - val_loss: 4.5101 - val_accuracy: 0.5430\n",
            "Epoch 68/100\n",
            "8/8 [==============================] - 23s 3s/step - loss: 0.1606 - accuracy: 0.9404 - val_loss: 2.2710 - val_accuracy: 0.6562\n",
            "Epoch 69/100\n",
            "8/8 [==============================] - 21s 3s/step - loss: 0.1491 - accuracy: 0.9522 - val_loss: 2.7598 - val_accuracy: 0.6172\n",
            "Epoch 70/100\n",
            "8/8 [==============================] - 22s 3s/step - loss: 0.1851 - accuracy: 0.9288 - val_loss: 2.5611 - val_accuracy: 0.6250\n",
            "Epoch 71/100\n",
            "8/8 [==============================] - 26s 3s/step - loss: 0.1353 - accuracy: 0.9502 - val_loss: 1.8819 - val_accuracy: 0.7031\n",
            "Epoch 72/100\n",
            "8/8 [==============================] - 22s 3s/step - loss: 0.1758 - accuracy: 0.9310 - val_loss: 2.3641 - val_accuracy: 0.6523\n",
            "Epoch 73/100\n",
            "8/8 [==============================] - 21s 3s/step - loss: 0.1778 - accuracy: 0.9266 - val_loss: 1.7707 - val_accuracy: 0.7109\n",
            "Epoch 74/100\n",
            "8/8 [==============================] - 24s 3s/step - loss: 0.1801 - accuracy: 0.9316 - val_loss: 1.5903 - val_accuracy: 0.7188\n",
            "Epoch 75/100\n",
            "8/8 [==============================] - 22s 3s/step - loss: 0.1553 - accuracy: 0.9377 - val_loss: 5.5849 - val_accuracy: 0.5195\n",
            "Epoch 76/100\n",
            "8/8 [==============================] - 26s 3s/step - loss: 0.2143 - accuracy: 0.9199 - val_loss: 2.5801 - val_accuracy: 0.6406\n",
            "Epoch 77/100\n",
            "8/8 [==============================] - 22s 3s/step - loss: 0.1402 - accuracy: 0.9488 - val_loss: 3.4302 - val_accuracy: 0.6055\n",
            "Epoch 78/100\n",
            "8/8 [==============================] - 24s 3s/step - loss: 0.1492 - accuracy: 0.9424 - val_loss: 2.9534 - val_accuracy: 0.6133\n",
            "Epoch 79/100\n",
            "8/8 [==============================] - 22s 3s/step - loss: 0.1806 - accuracy: 0.9299 - val_loss: 2.0579 - val_accuracy: 0.6719\n",
            "Epoch 80/100\n",
            "8/8 [==============================] - 22s 3s/step - loss: 0.1358 - accuracy: 0.9466 - val_loss: 3.1987 - val_accuracy: 0.6094\n",
            "Epoch 81/100\n",
            "8/8 [==============================] - 24s 3s/step - loss: 0.3101 - accuracy: 0.9043 - val_loss: 2.7557 - val_accuracy: 0.6289\n",
            "Epoch 82/100\n",
            "8/8 [==============================] - 21s 3s/step - loss: 0.1521 - accuracy: 0.9377 - val_loss: 3.1540 - val_accuracy: 0.6172\n",
            "Epoch 83/100\n",
            "8/8 [==============================] - 22s 3s/step - loss: 0.1341 - accuracy: 0.9499 - val_loss: 2.4229 - val_accuracy: 0.6562\n",
            "Epoch 84/100\n",
            "8/8 [==============================] - 22s 3s/step - loss: 0.1094 - accuracy: 0.9600 - val_loss: 2.1124 - val_accuracy: 0.6797\n",
            "Epoch 85/100\n",
            "8/8 [==============================] - 26s 3s/step - loss: 0.1478 - accuracy: 0.9433 - val_loss: 4.4870 - val_accuracy: 0.5703\n",
            "Epoch 86/100\n",
            "8/8 [==============================] - 22s 3s/step - loss: 0.1343 - accuracy: 0.9477 - val_loss: 2.9533 - val_accuracy: 0.6289\n",
            "Epoch 87/100\n",
            "8/8 [==============================] - 21s 3s/step - loss: 0.2524 - accuracy: 0.9099 - val_loss: 3.9400 - val_accuracy: 0.5859\n",
            "Epoch 88/100\n",
            "8/8 [==============================] - 22s 3s/step - loss: 0.1505 - accuracy: 0.9388 - val_loss: 2.6156 - val_accuracy: 0.6484\n",
            "Epoch 89/100\n",
            "8/8 [==============================] - 22s 3s/step - loss: 0.1032 - accuracy: 0.9666 - val_loss: 2.7754 - val_accuracy: 0.6523\n",
            "Epoch 90/100\n",
            "8/8 [==============================] - 24s 3s/step - loss: 0.2157 - accuracy: 0.9088 - val_loss: 1.8444 - val_accuracy: 0.7148\n",
            "Epoch 91/100\n",
            "8/8 [==============================] - 22s 3s/step - loss: 0.1107 - accuracy: 0.9677 - val_loss: 2.8819 - val_accuracy: 0.6484\n",
            "Epoch 92/100\n",
            "8/8 [==============================] - 22s 3s/step - loss: 0.1589 - accuracy: 0.9355 - val_loss: 2.7622 - val_accuracy: 0.6523\n",
            "Epoch 93/100\n",
            "8/8 [==============================] - 21s 3s/step - loss: 0.1575 - accuracy: 0.9366 - val_loss: 2.3030 - val_accuracy: 0.6797\n",
            "Epoch 94/100\n",
            "8/8 [==============================] - 22s 3s/step - loss: 0.1508 - accuracy: 0.9344 - val_loss: 2.4878 - val_accuracy: 0.6562\n",
            "Epoch 95/100\n",
            "8/8 [==============================] - 23s 3s/step - loss: 0.1018 - accuracy: 0.9633 - val_loss: 3.3373 - val_accuracy: 0.6328\n",
            "Epoch 96/100\n",
            "8/8 [==============================] - 22s 3s/step - loss: 0.1827 - accuracy: 0.9366 - val_loss: 3.1402 - val_accuracy: 0.6406\n",
            "Epoch 97/100\n",
            "8/8 [==============================] - 25s 3s/step - loss: 0.1174 - accuracy: 0.9522 - val_loss: 2.8574 - val_accuracy: 0.6562\n",
            "Epoch 98/100\n",
            "8/8 [==============================] - 24s 3s/step - loss: 0.1772 - accuracy: 0.9268 - val_loss: 2.3444 - val_accuracy: 0.6562\n",
            "Epoch 99/100\n",
            "8/8 [==============================] - 22s 3s/step - loss: 0.1251 - accuracy: 0.9511 - val_loss: 4.1445 - val_accuracy: 0.5781\n",
            "Epoch 100/100\n",
            "8/8 [==============================] - 25s 3s/step - loss: 0.1554 - accuracy: 0.9326 - val_loss: 1.8401 - val_accuracy: 0.7227\n"
          ],
          "name": "stdout"
        }
      ]
    },
    {
      "cell_type": "code",
      "metadata": {
        "colab_type": "code",
        "id": "7zNPRWOVJdOH",
        "colab": {
          "base_uri": "https://localhost:8080/",
          "height": 545
        },
        "outputId": "a4d7c70b-1fc2-4c9b-c614-6d351d040d7d"
      },
      "source": [
        "import matplotlib.pyplot as plt\n",
        "acc = history.history['accuracy']\n",
        "val_acc = history.history['val_accuracy']\n",
        "loss = history.history['loss']\n",
        "val_loss = history.history['val_loss']\n",
        "\n",
        "epochs = range(len(acc))\n",
        "\n",
        "plt.plot(epochs, acc, 'r', label='Training accuracy')\n",
        "plt.plot(epochs, val_acc, 'b', label='Validation accuracy')\n",
        "plt.title('Training and validation accuracy')\n",
        "\n",
        "plt.figure()\n",
        "\n",
        "plt.plot(epochs, loss, 'r', label='Training Loss')\n",
        "plt.plot(epochs, val_loss, 'b', label='Validation Loss')\n",
        "plt.title('Training and validation loss')\n",
        "plt.legend()\n",
        "\n",
        "plt.show()"
      ],
      "execution_count": null,
      "outputs": [
        {
          "output_type": "display_data",
          "data": {
            "image/png": "[encoded data removed]",
            "text/plain": [
              "<Figure size 432x288 with 1 Axes>"
            ]
          },
          "metadata": {
            "tags": [],
            "needs_background": "light"
          }
        },
        {
          "output_type": "display_data",
          "data": {
            "image/png": "[encoded data removed]",
            "text/plain": [
              "<Figure size 432x288 with 1 Axes>"
            ]
          },
          "metadata": {
            "tags": [],
            "needs_background": "light"
          }
        }
      ]
    },
    {
      "cell_type": "code",
      "metadata": {
        "id": "peafLqVqVEK-",
        "colab_type": "code",
        "colab": {}
      },
      "source": [
        ""
      ],
      "execution_count": null,
      "outputs": []
    }
  ]
}